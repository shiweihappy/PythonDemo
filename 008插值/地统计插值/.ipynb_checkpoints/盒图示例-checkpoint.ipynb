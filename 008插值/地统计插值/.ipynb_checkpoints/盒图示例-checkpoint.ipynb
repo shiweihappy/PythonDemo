{
 "cells": [
  {
   "cell_type": "code",
   "execution_count": 24,
   "metadata": {},
   "outputs": [],
   "source": [
    "import arcpy,pandas\n",
    "import matplotlib.pyplot as plt\n",
    "import numpy"
   ]
  },
  {
   "cell_type": "code",
   "execution_count": 13,
   "metadata": {},
   "outputs": [],
   "source": [
    "plt.rcParams['font.sans-serif'] = ['SimHei']\n",
    "plt.rcParams['axes.unicode_minus'] = False"
   ]
  },
  {
   "cell_type": "code",
   "execution_count": 14,
   "metadata": {},
   "outputs": [],
   "source": [
    "dt = arcpy.da.FeatureClassToNumPyArray(r\"E:\\work\\地统计插值\\weather.shp\",\n",
    "                                       [\"mean\"])"
   ]
  },
  {
   "cell_type": "code",
   "execution_count": 30,
   "metadata": {},
   "outputs": [],
   "source": [
    "q25 = numpy.percentile(dt[\"mean\"], 25)\n",
    "q50 = numpy.percentile(dt[\"mean\"], 50)\n",
    "q75 = numpy.percentile(dt[\"mean\"], 75)\n",
    "iqr = q75 - q25\n",
    "u = q75 + 1.5 * iqr\n",
    "d = q25 - 1.5 * iqr"
   ]
  },
  {
   "cell_type": "code",
   "execution_count": 38,
   "metadata": {},
   "outputs": [],
   "source": [
    "if u > max(dt[\"mean\"]):\n",
    "    u =  max(dt[\"mean\"])\n",
    "if d < min(dt[\"mean\"]):\n",
    "    d = min(dt[\"mean\"])"
   ]
  },
  {
   "cell_type": "code",
   "execution_count": 39,
   "metadata": {},
   "outputs": [
    {
     "data": {
      "image/png": "[encoded data removed]",
      "text/plain": [
       "<Figure size 432x576 with 1 Axes>"
      ]
     },
     "metadata": {
      "needs_background": "light"
     },
     "output_type": "display_data"
    }
   ],
   "source": [
    "plt.figure(figsize=(6,8))\n",
    "plt.boxplot(dt[\"mean\"])\n",
    "plt.text(1.1,u,\"上边缘\")\n",
    "plt.text(1.1,d,\"下边缘\")\n",
    "plt.text(1.1,q25,\"下四分位（25%）\")\n",
    "plt.text(1.1,q50,\"中四分位（50%）\")\n",
    "plt.text(1.1,q75,\"中四分位（75%）\")\n",
    "pass"
   ]
  },
  {
   "cell_type": "code",
   "execution_count": null,
   "metadata": {},
   "outputs": [],
   "source": []
  }
 ],
 "metadata": {
  "kernelspec": {
   "display_name": "Python 3",
   "language": "python",
   "name": "python3"
  },
  "language_info": {
   "codemirror_mode": {
    "name": "ipython",
    "version": 3
   },
   "file_extension": ".py",
   "mimetype": "text/x-python",
   "name": "python",
   "nbconvert_exporter": "python",
   "pygments_lexer": "ipython3",
   "version": "3.6.8"
  }
 },
 "nbformat": 4,
 "nbformat_minor": 2
}
