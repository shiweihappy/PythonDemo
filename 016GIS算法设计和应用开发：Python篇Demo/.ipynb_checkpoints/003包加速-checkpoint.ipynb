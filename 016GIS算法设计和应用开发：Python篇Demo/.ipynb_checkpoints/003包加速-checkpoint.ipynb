{
 "cells": [
  {
   "cell_type": "code",
   "execution_count": 1,
   "metadata": {},
   "outputs": [],
   "source": [
    "import random"
   ]
  },
  {
   "cell_type": "code",
   "execution_count": 2,
   "metadata": {},
   "outputs": [],
   "source": [
    "ls = [random.randint(0,10000) for i in range(1000000)]"
   ]
  },
  {
   "cell_type": "code",
   "execution_count": 3,
   "metadata": {},
   "outputs": [
    {
     "data": {
      "text/plain": [
       "1000000"
      ]
     },
     "execution_count": 3,
     "metadata": {},
     "output_type": "execute_result"
    }
   ],
   "source": [
    "len(ls)"
   ]
  },
  {
   "cell_type": "code",
   "execution_count": 4,
   "metadata": {},
   "outputs": [
    {
     "name": "stdout",
     "output_type": "stream",
     "text": [
      "Wall time: 171 ms\n"
     ]
    }
   ],
   "source": [
    "%%time\n",
    "fls = []\n",
    "for i in ls:\n",
    "    if i > 450:\n",
    "        fls.append(i)"
   ]
  },
  {
   "cell_type": "code",
   "execution_count": 5,
   "metadata": {},
   "outputs": [
    {
     "data": {
      "text/plain": [
       "954705"
      ]
     },
     "execution_count": 5,
     "metadata": {},
     "output_type": "execute_result"
    }
   ],
   "source": [
    "len(fls)"
   ]
  },
  {
   "cell_type": "code",
   "execution_count": 6,
   "metadata": {},
   "outputs": [],
   "source": [
    "import numpy"
   ]
  },
  {
   "cell_type": "code",
   "execution_count": 7,
   "metadata": {},
   "outputs": [],
   "source": [
    "nls = numpy.array(ls)"
   ]
  },
  {
   "cell_type": "code",
   "execution_count": 8,
   "metadata": {},
   "outputs": [
    {
     "name": "stdout",
     "output_type": "stream",
     "text": [
      "Wall time: 7.81 ms\n"
     ]
    }
   ],
   "source": [
    "%%time\n",
    "fls2 = numpy.where(nls > 450)"
   ]
  },
  {
   "cell_type": "code",
   "execution_count": 9,
   "metadata": {},
   "outputs": [
    {
     "data": {
      "text/plain": [
       "954705"
      ]
     },
     "execution_count": 9,
     "metadata": {},
     "output_type": "execute_result"
    }
   ],
   "source": [
    "len(fls2[0])"
   ]
  },
  {
   "cell_type": "code",
   "execution_count": 10,
   "metadata": {},
   "outputs": [
    {
     "name": "stdout",
     "output_type": "stream",
     "text": [
      "Wall time: 204 ms\n"
     ]
    }
   ],
   "source": [
    "%%time\n",
    "fls = []\n",
    "for i in ls:\n",
    "    fls.append(i * 0.5)"
   ]
  },
  {
   "cell_type": "code",
   "execution_count": 11,
   "metadata": {},
   "outputs": [
    {
     "name": "stdout",
     "output_type": "stream",
     "text": [
      "[4634.5, 1280.0, 3175.5, 1454.5, 2247.0, 3052.5, 165.0, 645.5, 3163.5, 2621.5, 4924.0, 778.0, 3910.5, 4626.0, 3600.5, 1249.5, 1953.5, 4153.5, 1606.0, 2505.0, 4299.0, 2029.5, 4943.0, 2487.0, 722.0, 666.0, 4871.0, 4981.0, 2901.5, 2684.5, 4641.0, 1447.5, 2233.0, 194.5, 1902.5, 1970.0, 741.5, 4551.5, 4387.0, 2518.5, 613.5, 86.0, 2650.0, 3757.0, 2992.0, 813.0, 3110.5, 815.0, 2528.5, 1465.5, 4007.5, 3612.5, 451.5, 1463.0, 2566.5, 4200.0, 4320.0, 3043.5, 1369.0, 4849.5, 2907.0, 81.5, 4794.0, 4008.5, 2730.0, 1423.0, 3577.0, 1495.0, 3832.0, 4755.0, 364.5, 3111.5, 4535.0, 3669.0, 207.0, 1970.5, 2043.0, 889.5, 2768.5, 3762.0, 4923.0, 3115.5, 2872.5, 3286.5, 567.5, 145.5, 4448.0, 4533.5, 970.0, 4455.5, 3129.5, 2241.5, 3827.0, 3499.0, 4973.0, 1105.5, 4458.0, 2099.0, 2078.0, 3965.5]\n"
     ]
    }
   ],
   "source": [
    "print(fls[:100])"
   ]
  },
  {
   "cell_type": "code",
   "execution_count": 12,
   "metadata": {},
   "outputs": [
    {
     "name": "stdout",
     "output_type": "stream",
     "text": [
      "Wall time: 4.88 ms\n"
     ]
    }
   ],
   "source": [
    "%%time\n",
    "nls2 = nls * 0.5"
   ]
  },
  {
   "cell_type": "code",
   "execution_count": 13,
   "metadata": {},
   "outputs": [
    {
     "name": "stdout",
     "output_type": "stream",
     "text": [
      "[4634.5 1280.  3175.5 1454.5 2247.  3052.5  165.   645.5 3163.5 2621.5\n",
      " 4924.   778.  3910.5 4626.  3600.5 1249.5 1953.5 4153.5 1606.  2505.\n",
      " 4299.  2029.5 4943.  2487.   722.   666.  4871.  4981.  2901.5 2684.5\n",
      " 4641.  1447.5 2233.   194.5 1902.5 1970.   741.5 4551.5 4387.  2518.5\n",
      "  613.5   86.  2650.  3757.  2992.   813.  3110.5  815.  2528.5 1465.5\n",
      " 4007.5 3612.5  451.5 1463.  2566.5 4200.  4320.  3043.5 1369.  4849.5\n",
      " 2907.    81.5 4794.  4008.5 2730.  1423.  3577.  1495.  3832.  4755.\n",
      "  364.5 3111.5 4535.  3669.   207.  1970.5 2043.   889.5 2768.5 3762.\n",
      " 4923.  3115.5 2872.5 3286.5  567.5  145.5 4448.  4533.5  970.  4455.5\n",
      " 3129.5 2241.5 3827.  3499.  4973.  1105.5 4458.  2099.  2078.  3965.5]\n"
     ]
    }
   ],
   "source": [
    "print(nls2[:100])"
   ]
  },
  {
   "cell_type": "code",
   "execution_count": null,
   "metadata": {},
   "outputs": [],
   "source": []
  }
 ],
 "metadata": {
  "kernelspec": {
   "display_name": "Python 3",
   "language": "python",
   "name": "python3"
  },
  "language_info": {
   "codemirror_mode": {
    "name": "ipython",
    "version": 3
   },
   "file_extension": ".py",
   "mimetype": "text/x-python",
   "name": "python",
   "nbconvert_exporter": "python",
   "pygments_lexer": "ipython3",
   "version": "3.6.8"
  }
 },
 "nbformat": 4,
 "nbformat_minor": 2
}
