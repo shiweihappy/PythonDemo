{
 "cells": [
  {
   "cell_type": "code",
   "execution_count": null,
   "metadata": {},
   "outputs": [],
   "source": [
    "import pandas,numpy\n",
    "import time,random\n",
    "import seaborn as sns\n",
    "import matplotlib.pyplot as plt\n",
    "from sklearn.cluster import KMeans"
   ]
  },
  {
   "cell_type": "code",
   "execution_count": null,
   "metadata": {},
   "outputs": [],
   "source": [
    "cw = pandas.read_csv(\"data/weather.csv\")\n",
    "dataSet = [(m1,m2)for m1,m2 in zip(cw[\"max\"],cw[\"min\"])]"
   ]
  },
  {
   "cell_type": "code",
   "execution_count": null,
   "metadata": {
    "scrolled": true
   },
   "outputs": [],
   "source": [
    "cw"
   ]
  },
  {
   "cell_type": "code",
   "execution_count": null,
   "metadata": {},
   "outputs": [],
   "source": [
    "clf = KMeans(n_clusters=5)\n",
    "s = clf.fit(dataSet)\n",
    "numSamples=len(dataSet)\n",
    "cw[\"clf\"] = clf.labels_\n",
    "fig = plt.figure(figsize=(14,10))\n",
    "ax = fig.gca() \n",
    "ax.grid(alpha= 1)\n",
    "plt.scatter(cw[\"x\"],cw[\"y\"],c=clf.labels_)"
   ]
  },
  {
   "cell_type": "code",
   "execution_count": null,
   "metadata": {
    "scrolled": false
   },
   "outputs": [],
   "source": [
    "fig = plt.figure(figsize=(16,24))\n",
    "for i in range(2,10):\n",
    "    clf = KMeans(n_clusters=i)\n",
    "    s = clf.fit(dataSet)\n",
    "    numSamples=len(dataSet)\n",
    "    cw[\"clf\"] = clf.labels_\n",
    "    plt.subplot(4,2,i-1)\n",
    "    plt.scatter(cw[\"x\"],cw[\"y\"],c=clf.labels_)\n",
    "    plt.title(\"cluster num :{0}\".format(i))"
   ]
  },
  {
   "cell_type": "code",
   "execution_count": null,
   "metadata": {},
   "outputs": [],
   "source": []
  }
 ],
 "metadata": {
  "kernelspec": {
   "display_name": "Python 3",
   "language": "python",
   "name": "python3"
  },
  "language_info": {
   "codemirror_mode": {
    "name": "ipython",
    "version": 3
   },
   "file_extension": ".py",
   "mimetype": "text/x-python",
   "name": "python",
   "nbconvert_exporter": "python",
   "pygments_lexer": "ipython3",
   "version": "3.6.8"
  }
 },
 "nbformat": 4,
 "nbformat_minor": 2
}
