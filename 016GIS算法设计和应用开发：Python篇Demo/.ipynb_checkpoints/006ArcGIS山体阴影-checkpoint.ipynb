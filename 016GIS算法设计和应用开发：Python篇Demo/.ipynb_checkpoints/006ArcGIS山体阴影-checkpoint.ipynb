{
 "cells": [
  {
   "cell_type": "code",
   "execution_count": null,
   "metadata": {},
   "outputs": [],
   "source": [
    "import os\n",
    "path = os.getcwd()\n",
    "import arcpy,numpy\n",
    "import matplotlib.pyplot as plt"
   ]
  },
  {
   "cell_type": "code",
   "execution_count": null,
   "metadata": {},
   "outputs": [],
   "source": [
    "ras = path + \"/dem/rkzNorth2.tif\"\n",
    "hy = arcpy.RasterToNumPyArray(arcpy.Raster(ras))"
   ]
  },
  {
   "cell_type": "markdown",
   "metadata": {},
   "source": [
    "### 灰度图渲染DEM"
   ]
  },
  {
   "cell_type": "code",
   "execution_count": null,
   "metadata": {},
   "outputs": [],
   "source": [
    "ax = plt.figure(figsize=(9,9))\n",
    "plt.imshow(hy, cmap= plt.cm.gray)"
   ]
  },
  {
   "cell_type": "markdown",
   "metadata": {},
   "source": [
    "### 采用高程样式渲染"
   ]
  },
  {
   "cell_type": "code",
   "execution_count": null,
   "metadata": {},
   "outputs": [],
   "source": [
    "ax = plt.figure(figsize=(9,9))\n",
    "plt.imshow(hy, cmap= plt.cm.gist_earth)"
   ]
  },
  {
   "cell_type": "markdown",
   "metadata": {},
   "source": [
    "### ArcGIS空间分析扩展里面的山体阴影"
   ]
  },
  {
   "cell_type": "code",
   "execution_count": null,
   "metadata": {},
   "outputs": [],
   "source": [
    "arcpy.CheckOutExtension(\"Spatial\")\n",
    "#太阳高度角\n",
    "azimuth = 315.0\n",
    "#太阳方位角\n",
    "altitude = 45.0\n",
    "hs = arcpy.sa.Hillshade(ras, azimuth, altitude)\n",
    "ax = plt.figure(figsize=(9,9))\n",
    "plt.imshow(arcpy.RasterToNumPyArray(hs), cmap= plt.cm.gray)"
   ]
  },
  {
   "cell_type": "markdown",
   "metadata": {},
   "source": [
    "### 山体阴影+高程联合渲染"
   ]
  },
  {
   "cell_type": "code",
   "execution_count": null,
   "metadata": {},
   "outputs": [],
   "source": [
    "ax = plt.figure(figsize=(12,12))\n",
    "plt.imshow(arcpy.RasterToNumPyArray(hs), cmap= plt.cm.gray)\n",
    "plt.imshow(hy, cmap= plt.cm.gist_earth,alpha=0.7)"
   ]
  },
  {
   "cell_type": "code",
   "execution_count": null,
   "metadata": {},
   "outputs": [],
   "source": []
  }
 ],
 "metadata": {
  "kernelspec": {
   "display_name": "Python 3",
   "language": "python",
   "name": "python3"
  },
  "language_info": {
   "codemirror_mode": {
    "name": "ipython",
    "version": 3
   },
   "file_extension": ".py",
   "mimetype": "text/x-python",
   "name": "python",
   "nbconvert_exporter": "python",
   "pygments_lexer": "ipython3",
   "version": "3.6.8"
  }
 },
 "nbformat": 4,
 "nbformat_minor": 2
}
