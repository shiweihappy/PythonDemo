{
 "cells": [
  {
   "cell_type": "code",
   "execution_count": null,
   "metadata": {},
   "outputs": [],
   "source": [
    "import arcpy,numpy"
   ]
  },
  {
   "cell_type": "code",
   "execution_count": null,
   "metadata": {},
   "outputs": [],
   "source": [
    "rasnum = arcpy.RasterToNumPyArray(r\"D:\\workspace\\DevWork\\work\\abiGA\\notebook培训\\data\\dem\\Himalaya100.tif\")"
   ]
  },
  {
   "cell_type": "code",
   "execution_count": null,
   "metadata": {},
   "outputs": [],
   "source": [
    "rasnum"
   ]
  },
  {
   "cell_type": "code",
   "execution_count": null,
   "metadata": {},
   "outputs": [],
   "source": [
    "xa,ya = rasnum.shape"
   ]
  },
  {
   "cell_type": "code",
   "execution_count": null,
   "metadata": {},
   "outputs": [],
   "source": [
    "def surface3d_data():\n",
    "    for y in range(0, ya):\n",
    "        for x in range(0, xa):\n",
    "            yield [x, y, int(rasnum[x][y])]"
   ]
  },
  {
   "cell_type": "code",
   "execution_count": null,
   "metadata": {},
   "outputs": [],
   "source": [
    "import matplotlib.pyplot as plt\n",
    "import seaborn as sns\n",
    "from matplotlib.colors import LightSource"
   ]
  },
  {
   "cell_type": "code",
   "execution_count": null,
   "metadata": {},
   "outputs": [],
   "source": [
    "col = []\n",
    "for c in sns.color_palette(\"terrain\",20):\n",
    "    v = \"#\"\n",
    "    for r in c:\n",
    "        r0 = hex(int(r*255))[2:]\n",
    "        if len(r0) < 2:\n",
    "            r0 = \"0{0}\".format(r0)\n",
    "        v +=r0\n",
    "    col.append(v)"
   ]
  },
  {
   "cell_type": "code",
   "execution_count": null,
   "metadata": {},
   "outputs": [],
   "source": [
    "from example.commons import Faker\n",
    "from pyecharts import options as opts\n",
    "from pyecharts.charts import Surface3D"
   ]
  },
  {
   "cell_type": "code",
   "execution_count": null,
   "metadata": {},
   "outputs": [],
   "source": [
    "c = (\n",
    "    Surface3D()\n",
    "    .add(\n",
    "        \"\",\n",
    "        list(surface3d_data()),\n",
    "        xaxis3d_opts=opts.Axis3DOpts(type_=\"value\"),\n",
    "        yaxis3d_opts=opts.Axis3DOpts(type_=\"value\"),\n",
    "        zaxis3d_opts=opts.Axis3DOpts(type_=\"value\",max_=9000,min_=5000),\n",
    "        grid3d_opts=opts.Grid3DOpts(width=100, height=100, depth=100),\n",
    "    )\n",
    "    .set_global_opts(\n",
    "        title_opts=opts.TitleOpts(title=\"喜马拉雅山\"),\n",
    "        visualmap_opts=opts.VisualMapOpts(\n",
    "            max_=8848, min_=4000, range_color=col\n",
    "        ),\n",
    "    )\n",
    ")"
   ]
  },
  {
   "cell_type": "code",
   "execution_count": null,
   "metadata": {},
   "outputs": [],
   "source": [
    "c.render_notebook()"
   ]
  },
  {
   "cell_type": "code",
   "execution_count": null,
   "metadata": {},
   "outputs": [],
   "source": [
    "from mpl_toolkits.mplot3d import Axes3D"
   ]
  },
  {
   "cell_type": "code",
   "execution_count": null,
   "metadata": {},
   "outputs": [],
   "source": [
    "num = 120"
   ]
  },
  {
   "cell_type": "code",
   "execution_count": null,
   "metadata": {},
   "outputs": [],
   "source": [
    "ncols, nrows = rasnum.shape\n",
    "x = numpy.linspace(0,num, ncols)\n",
    "y = numpy.linspace(0,num, nrows)\n",
    "x,y = numpy.meshgrid(x, y)\n",
    "region = numpy.s_[0:num,0:num]\n",
    "nx, ny, nz =x[region], y[region],rasnum[region]"
   ]
  },
  {
   "cell_type": "code",
   "execution_count": null,
   "metadata": {
    "scrolled": false
   },
   "outputs": [],
   "source": [
    "fig, ax = plt.subplots(subplot_kw=dict(projection='3d'), \n",
    "                       figsize=(12,10))\n",
    "ls = LightSource(270, 20) \n",
    "rgb = ls.shade(nz, cmap=plt.cm.gist_earth, \n",
    "               vert_exag=0.1, blend_mode='soft')\n",
    "surf = ax.plot_surface(nx, ny, nz, rstride=1, cstride=1, facecolors=rgb,\n",
    "                        linewidth=0, antialiased=False, shade=False)\n",
    "plt.show()"
   ]
  },
  {
   "cell_type": "code",
   "execution_count": null,
   "metadata": {},
   "outputs": [],
   "source": []
  }
 ],
 "metadata": {
  "kernelspec": {
   "display_name": "Python 3",
   "language": "python",
   "name": "python3"
  },
  "language_info": {
   "codemirror_mode": {
    "name": "ipython",
    "version": 3
   },
   "file_extension": ".py",
   "mimetype": "text/x-python",
   "name": "python",
   "nbconvert_exporter": "python",
   "pygments_lexer": "ipython3",
   "version": "3.6.8"
  }
 },
 "nbformat": 4,
 "nbformat_minor": 2
}
