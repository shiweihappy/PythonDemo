{
 "cells": [
  {
   "cell_type": "code",
   "execution_count": null,
   "metadata": {},
   "outputs": [],
   "source": [
    "import arcpy,pandas,json\n",
    "import seaborn as sns\n",
    "import matplotlib as mpl\n",
    "import matplotlib.pyplot as plt\n",
    "import pyecharts\n",
    "from pyecharts import options as opts\n",
    "from pyecharts.charts import Bar,Map,Line3D,Line,Bar3D\n",
    "from pyecharts.globals import ThemeType\n",
    "mpl.rcParams['font.sans-serif'] = ['SimHei']\n",
    "mpl.rcParams['font.serif'] = ['SimHei']\n",
    "mpl.rcParams['axes.unicode_minus'] = False"
   ]
  },
  {
   "cell_type": "code",
   "execution_count": null,
   "metadata": {},
   "outputs": [],
   "source": [
    "def getColorDist(colName, colValue):\n",
    "    cm = plt.cm.get_cmap(colName)\n",
    "    colNum = len(colValue)\n",
    "    col = [cm(float(i)/(colNum)) for i in range(colNum)]\n",
    "    cols = {}\n",
    "    for i in range(len(col)):\n",
    "        c = col[i]\n",
    "        f = \"#\"\n",
    "        for c1 in c:\n",
    "            cc = \"{0}\".format(hex(int(c1*255)))[2:]\n",
    "            if len(cc) < 2:\n",
    "                cc = \"0\"+cc\n",
    "            f+=cc\n",
    "        cols[colValue[i]] = f\n",
    "    return cols\n",
    "col = getColorDist(\"hsv\",range(6))\n",
    "text = {0:\" 低异常值\",1:\" < 25%\",2:\" 25% - 50%\",3:\" 50% - 75%\",4:\" > 75%\",5:\" 高异常值\"}"
   ]
  },
  {
   "cell_type": "code",
   "execution_count": null,
   "metadata": {},
   "outputs": [],
   "source": [
    "cn = \"./data/shp/china_simple.shp\"\n",
    "nseaLine = \"./data/shp/南中国海.shp\""
   ]
  },
  {
   "cell_type": "code",
   "execution_count": null,
   "metadata": {},
   "outputs": [],
   "source": [
    "data = pandas.read_csv(\"./data/旅游收入.csv\")"
   ]
  },
  {
   "cell_type": "code",
   "execution_count": null,
   "metadata": {},
   "outputs": [],
   "source": [
    "data2 = data.set_index(\"name\")\n",
    "data2 = data2.drop([\"code\"],axis=1)\n",
    "data2 = data2.pivot_table(columns=\"name\")\n",
    "def showechartsLine(data) -> Line:\n",
    "    bar = pyecharts.charts.Line(init_opts=opts.InitOpts(theme=ThemeType.DARK))\n",
    "    bar.add_xaxis([\"{0}\".format(i) for i in data.index.tolist()])\n",
    "    for i in data.columns:\n",
    "        bar.add_yaxis(i, data[i].tolist())\n",
    "\n",
    "    bar.set_series_opts(label_opts=opts.LabelOpts(is_show=False))\n",
    "    bar.set_global_opts(title_opts=opts.TitleOpts(title=\"\\n\\n\\n\\n1999-2017各省旅游外汇收入\"),\n",
    "                       xaxis_opts=opts.AxisOpts(axislabel_opts=opts.LabelOpts(rotate=90)))\n",
    "\n",
    "    return bar\n",
    "display(showechartsLine(data2).render_notebook())"
   ]
  },
  {
   "cell_type": "code",
   "execution_count": null,
   "metadata": {},
   "outputs": [],
   "source": [
    "year = \"y2012\""
   ]
  },
  {
   "cell_type": "code",
   "execution_count": null,
   "metadata": {},
   "outputs": [],
   "source": [
    "y = data[year].to_numpy()\n",
    "q25 = numpy.percentile(y, 25)\n",
    "q50 = numpy.percentile(y, 50)\n",
    "q75 = numpy.percentile(y, 75)\n",
    "iqr = q75 - q25\n",
    "u = q75 + 1.5 * iqr\n",
    "d = q25 - 1.5 * iqr\n",
    "if u > max(y):\n",
    "    u =  max(y)\n",
    "if d < min(y):\n",
    "    d = min(y)\n",
    "box = [d,q25,q50,q75,u]"
   ]
  },
  {
   "cell_type": "code",
   "execution_count": null,
   "metadata": {},
   "outputs": [],
   "source": [
    "fig = plt.figure(figsize=(16,10)) \n",
    "ax1 = plt.subplot2grid((4, 4), (0, 0), colspan = 1, rowspan = 4)\n",
    "plt.boxplot(data[year])\n",
    "ccdict = {}\n",
    "barColor = []\n",
    "for i,v in data.iterrows():\n",
    "    b2 = box+[v[year]]\n",
    "    b2.sort()\n",
    "    c = col[b2.index(v[year])]\n",
    "    ccdict[v[\"code\"]] = c\n",
    "    barColor.append(c)\n",
    "    plt.scatter(x=1,y=v[year],color=c)\n",
    "    plt.text(x=1.1,y=v[year],s=v[\"name\"])\n",
    "ax2 = plt.subplot2grid((4, 4), (0, 1), colspan = 3, rowspan = 4)\n",
    "num_list = data[year]\n",
    "name_list = data[\"name\"]\n",
    "plt.bar(range(len(num_list)), num_list,color = barColor,\n",
    "        tick_label=name_list)  \n",
    "plt.xticks(rotation=90)\n",
    "plt.show()\n",
    "print()"
   ]
  },
  {
   "cell_type": "code",
   "execution_count": null,
   "metadata": {},
   "outputs": [],
   "source": [
    "fig = plt.figure(figsize=(16,12)) \n",
    "ax1 = plt.subplot2grid((4, 4), (0, 0), colspan = 1, rowspan = 4)\n",
    "plt.boxplot(data[year])\n",
    "ccdict = {}\n",
    "for i,v in data.iterrows():\n",
    "    b2 = box+[v[year]]\n",
    "    b2.sort()\n",
    "    c = col[b2.index(v[year])]\n",
    "    ccdict[v[\"code\"]] = c\n",
    "    plt.scatter(x=1,y=v[year],color=c)\n",
    "\n",
    "ax2 = plt.subplot2grid((4, 4), (0, 1), colspan = 3, rowspan = 4)\n",
    "ext = arcpy.Describe(cn).extent\n",
    "ax2.grid(alpha= 1)\n",
    "basemap = arcpy.FeatureSet(cn)\n",
    "for g in arcpy.da.SearchCursor(basemap,[\"SHAPE@JSON\",\"name\",\n",
    "                                       \"SHAPE@XY\",\"code\"]):\n",
    "    if g[3] in ccdict:\n",
    "        c = ccdict[g[3]]\n",
    "        poly = plt.Polygon(json.loads(g[0])[\"rings\"][0],\n",
    "                                ec = '#000000',fc=c, alpha = 0.5)\n",
    "        if len(json.loads(g[0])[\"rings\"]) > 1:\n",
    "            poly = plt.Polygon(json.loads(g[0])[\"rings\"][2],\n",
    "                                ec = '#000000',fc=c, alpha = 0.5)\n",
    "    else:\n",
    "        poly = plt.Polygon(json.loads(g[0])[\"rings\"][0],\n",
    "                                fill=False, hatch='//', alpha = 0.5)\n",
    "    ax2.text(g[2][0], g[2][1],g[1],fontsize=8)\n",
    "    ax2.add_patch(poly)\n",
    "\n",
    "for g in arcpy.da.SearchCursor(nseaLine,[\"SHAPE@JSON\",\"show\"]):\n",
    "    l = json.loads(g[0])\n",
    "    if g[1] ==1:\n",
    "        pass\n",
    "    else:\n",
    "        x = [x for x,y in l[\"paths\"][0]]\n",
    "        y = [y for x,y in l[\"paths\"][0]]\n",
    "        line = plt.Line2D(x,y,color=\"black\",linestyle=\"-.\")\n",
    "        ax2.add_artist(line)\n",
    "\n",
    "for i in range(len(col)):\n",
    "    poly = plt.Polygon([[75,22+i],[80,22+i],[80,21+i],[75,21+i],[75,22+i]],\n",
    "                                ec = '#000000',fc=col[i], alpha = 0.5)\n",
    "    ax2.text(80.5,21.5+i,text[i],fontsize=10)\n",
    "    ax2.add_patch(poly)\n",
    "    \n",
    "i=-1\n",
    "poly = plt.Polygon([[75,22+i],[80,22+i],[80,21+i],[75,21+i],[75,22+i]],\n",
    "                                fill=False, hatch='//', alpha = 0.5)\n",
    "ax2.text(80.5,21.2+i,\" 数据缺失\",fontsize=10)\n",
    "ax2.add_patch(poly)\n",
    "ax2.set_xlim(ext.XMin,ext.XMax)\n",
    "ax2.set_ylim(ext.YMin-15,ext.YMax)\n",
    "plt.title(\"{0}年中国各省国际旅游外汇收入分位数专题图\\n数据来源：国家统计局\".format(year[1:]))\n",
    "plt.show()"
   ]
  },
  {
   "cell_type": "code",
   "execution_count": null,
   "metadata": {},
   "outputs": [],
   "source": []
  }
 ],
 "metadata": {
  "kernelspec": {
   "display_name": "Python 3",
   "language": "python",
   "name": "python3"
  },
  "language_info": {
   "codemirror_mode": {
    "name": "ipython",
    "version": 3
   },
   "file_extension": ".py",
   "mimetype": "text/x-python",
   "name": "python",
   "nbconvert_exporter": "python",
   "pygments_lexer": "ipython3",
   "version": "3.6.8"
  }
 },
 "nbformat": 4,
 "nbformat_minor": 2
}
