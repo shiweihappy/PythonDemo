{
 "cells": [
  {
   "cell_type": "code",
   "execution_count": null,
   "metadata": {},
   "outputs": [],
   "source": [
    "import pandas,numpy\n",
    "import time,random\n",
    "import seaborn as sns\n",
    "import matplotlib.pyplot as plt"
   ]
  },
  {
   "cell_type": "code",
   "execution_count": null,
   "metadata": {},
   "outputs": [],
   "source": [
    "df = pandas.read_csv(\"data/cities.csv\",header=0)\n",
    "air = pandas.read_csv(\"data/air.csv\",header=0)"
   ]
  },
  {
   "cell_type": "code",
   "execution_count": null,
   "metadata": {},
   "outputs": [],
   "source": [
    "df.set_index(\"name\")\n",
    "air.set_index(\"name\")\n",
    "air2 = air[air['hour'] == 5]\n",
    "air2 = pandas.merge(air2, df, on='name').dropna()"
   ]
  },
  {
   "cell_type": "code",
   "execution_count": null,
   "metadata": {},
   "outputs": [],
   "source": [
    "air2 = air2.sort_values(\"PM2.5\")\n",
    "x = air2[\"x\"].tolist()\n",
    "y = air2[\"y\"].tolist()\n",
    "pm25 = air2[\"PM2.5\"].tolist()\n",
    "so2 = [s * 3for s in air2[\"SO2\"].tolist()]\n",
    "name = air2[\"name\"].tolist()"
   ]
  },
  {
   "cell_type": "code",
   "execution_count": null,
   "metadata": {},
   "outputs": [],
   "source": [
    "c = sns.color_palette(\"Reds\",len(x))\n",
    "c2 = [(int(x[0]*255),int(x[1]*255),int(x[2]*255),255)for x in c]"
   ]
  },
  {
   "cell_type": "code",
   "execution_count": null,
   "metadata": {},
   "outputs": [],
   "source": [
    "fig = plt.figure(figsize=(16,10))\n",
    "plt.scatter(x,y,c=c,s=so2*10)"
   ]
  },
  {
   "cell_type": "code",
   "execution_count": null,
   "metadata": {},
   "outputs": [],
   "source": [
    "import arcpy"
   ]
  },
  {
   "cell_type": "code",
   "execution_count": null,
   "metadata": {},
   "outputs": [],
   "source": [
    "if arcpy.Exists(\"work.gdb\"):\n",
    "    pass\n",
    "else:\n",
    "    arcpy.CreateFileGDB_management(\".\",\"work.gdb\")"
   ]
  },
  {
   "cell_type": "code",
   "execution_count": null,
   "metadata": {},
   "outputs": [],
   "source": [
    "arcpy.env.workspace = \"work.gdb\""
   ]
  },
  {
   "cell_type": "code",
   "execution_count": null,
   "metadata": {},
   "outputs": [],
   "source": [
    "feat = \"pnt\"\n",
    "projFeat = \"pnt_porj\""
   ]
  },
  {
   "cell_type": "code",
   "execution_count": null,
   "metadata": {},
   "outputs": [],
   "source": [
    "if arcpy.Exists(feat):\n",
    "    arcpy.Delete_management(feat)\n",
    "arcpy.CreateFeatureclass_management(arcpy.env.workspace,feat,\"POINT\",\n",
    "                                        spatial_reference=arcpy.SpatialReference(4326))"
   ]
  },
  {
   "cell_type": "code",
   "execution_count": null,
   "metadata": {},
   "outputs": [],
   "source": [
    "arcpy.AddField_management(feat,\"value\",\"FLOAT\")"
   ]
  },
  {
   "cell_type": "code",
   "execution_count": null,
   "metadata": {},
   "outputs": [],
   "source": [
    "with arcpy.da.InsertCursor(feat,[\"SHAPE@XY\",\"value\"]) as ins:\n",
    "    for idx,row in air2.iterrows():\n",
    "        ins.insertRow(((row[\"x\"],row[\"y\"]),row[\"PM2.5\"]))"
   ]
  },
  {
   "cell_type": "code",
   "execution_count": null,
   "metadata": {},
   "outputs": [],
   "source": [
    "if arcpy.Exists(projFeat):\n",
    "    arcpy.Delete_management(projFeat)\n",
    "\n",
    "arcpy.Project_management(feat,projFeat,\n",
    "                                arcpy.SpatialReference(3857))"
   ]
  },
  {
   "cell_type": "code",
   "execution_count": null,
   "metadata": {},
   "outputs": [],
   "source": [
    "arcpy.CheckOutExtension(\"Spatial\")\n",
    "outIDW = arcpy.sa.Idw(projFeat, \"value\", 10000, 2)"
   ]
  },
  {
   "cell_type": "code",
   "execution_count": null,
   "metadata": {},
   "outputs": [],
   "source": [
    "aa = arcpy.RasterToNumPyArray(outIDW)\n",
    "ax = plt.figure(figsize=(10,7))\n",
    "plt.axis('off')\n",
    "plt.imshow(aa,plt.cm.jet)\n",
    "width = 1024\n",
    "height = 768\n",
    "fig.set_size_inches(width/100.0,height/100.0)\n",
    "plt.gca().xaxis.set_major_locator(plt.NullLocator())\n",
    "plt.gca().yaxis.set_major_locator(plt.NullLocator())\n",
    "plt.subplots_adjust(top=1,bottom=0,left=0,right=1,hspace =0, wspace =0)\n",
    "plt.margins(0,0)\n",
    "plt.savefig(\"idw.png\")"
   ]
  },
  {
   "cell_type": "code",
   "execution_count": null,
   "metadata": {},
   "outputs": [],
   "source": [
    "import folium"
   ]
  },
  {
   "cell_type": "code",
   "execution_count": null,
   "metadata": {},
   "outputs": [],
   "source": [
    "m = folium.Map([37, 100], zoom_start=4, tiles='stamentoner')"
   ]
  },
  {
   "cell_type": "code",
   "execution_count": null,
   "metadata": {
    "scrolled": false
   },
   "outputs": [],
   "source": [
    "img = folium.raster_layers.ImageOverlay(\n",
    "        name='时间：{0}'.format(date),\n",
    "        image=\"idw.png\",\n",
    "        bounds=[[min(y), min(x)], [max(y), max(x)]],\n",
    "        opacity=0.6,\n",
    "        interactive=True,\n",
    "        cross_origin=False,\n",
    "        zindex=1,\n",
    "    )\n",
    "\n",
    "folium.Popup('pm2.5').add_to(img)\n",
    "img.add_to(m)\n",
    "folium.LayerControl().add_to(m)\n",
    "m"
   ]
  },
  {
   "cell_type": "code",
   "execution_count": null,
   "metadata": {},
   "outputs": [],
   "source": []
  }
 ],
 "metadata": {
  "kernelspec": {
   "display_name": "Python 3",
   "language": "python",
   "name": "python3"
  },
  "language_info": {
   "codemirror_mode": {
    "name": "ipython",
    "version": 3
   },
   "file_extension": ".py",
   "mimetype": "text/x-python",
   "name": "python",
   "nbconvert_exporter": "python",
   "pygments_lexer": "ipython3",
   "version": "3.6.8"
  }
 },
 "nbformat": 4,
 "nbformat_minor": 2
}
