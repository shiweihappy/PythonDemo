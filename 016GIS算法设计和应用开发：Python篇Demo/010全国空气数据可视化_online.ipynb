{
 "cells": [
  {
   "cell_type": "code",
   "execution_count": null,
   "metadata": {},
   "outputs": [],
   "source": [
    "import pandas,numpy\n",
    "import time,random\n",
    "import seaborn as sns\n",
    "import matplotlib.pyplot as plt\n",
    "from arcgis import GIS\n",
    "from arcgis.geometry import Point\n",
    "from ipywidgets import *"
   ]
  },
  {
   "cell_type": "code",
   "execution_count": null,
   "metadata": {},
   "outputs": [],
   "source": [
    "df = pandas.read_csv(\"data/cities.csv\",header=0)\n",
    "airall = pandas.read_csv(\"data/air.csv\",header=0)"
   ]
  },
  {
   "cell_type": "code",
   "execution_count": null,
   "metadata": {},
   "outputs": [],
   "source": [
    "air = airall[airall['hour'] == 5]"
   ]
  },
  {
   "cell_type": "code",
   "execution_count": null,
   "metadata": {},
   "outputs": [],
   "source": [
    "df.set_index(\"name\")\n",
    "air.set_index(\"name\")\n",
    "air2 = pandas.merge(air, df, on='name').dropna()\n",
    "air2 = air2.sort_values(\"PM2.5\")\n",
    "x = air2[\"x\"].tolist()\n",
    "y = air2[\"y\"].tolist()\n",
    "pm25 = air2[\"PM2.5\"].tolist()\n",
    "so2 = [s * 3 for s in air2[\"SO2\"].tolist()]\n",
    "name = air2[\"name\"].tolist()\n",
    "c = sns.color_palette(\"Reds\",len(x))\n",
    "c2 = [(int(x[0]*255),int(x[1]*255),int(x[2]*255),255)for x in c]"
   ]
  },
  {
   "cell_type": "code",
   "execution_count": null,
   "metadata": {},
   "outputs": [],
   "source": [
    "fig = plt.figure(figsize=(16,10))\n",
    "plt.scatter(x,y,c=c,s=so2)"
   ]
  },
  {
   "cell_type": "code",
   "execution_count": null,
   "metadata": {},
   "outputs": [],
   "source": [
    "gis = GIS(\"https://trail.arcgisonline.cn/portal\",\"lumengjupyter\",\"jupyter123\",\n",
    "         verify_cert=False)"
   ]
  },
  {
   "cell_type": "code",
   "execution_count": null,
   "metadata": {},
   "outputs": [],
   "source": [
    "mymap = gis.map(\"china\",4)\n",
    "mymap.basemap = \"osm\"\n",
    "mymap.layout = Layout(height=\"600px\")\n",
    "mymap"
   ]
  },
  {
   "cell_type": "code",
   "execution_count": null,
   "metadata": {},
   "outputs": [],
   "source": [
    "mymap.clear_graphics()\n",
    "for i in range(len(x)):\n",
    "    pnt = Point({\"x\" : x[i], \"y\" : y[i], \"spatialReference\" : {\"wkid\" : 4326}})\n",
    "    sym = {}\n",
    "    sym[\"type\"] = \"esriSMS\"\n",
    "    sym[\"style\"] = \"esriSMSCircle\"\n",
    "    sym[\"color\"]= c2[i]\n",
    "    sym[\"size\"] = so2[i]/5\n",
    "    mymap.draw(pnt,popup=({\"title\":str(name[i]),\n",
    "                           \"content\":\"日期：{0}<br/>时间：{1}时<br/>pm2.5 : {2}\\\n",
    "                           <br/>SO2 : {3}\".format(date,hour,pm25[i],so2[i])}),\n",
    "               symbol=sym)\n",
    "    t = random.randint(0,5)\n",
    "    if t == 1:\n",
    "        time.sleep(0.05)"
   ]
  },
  {
   "cell_type": "code",
   "execution_count": null,
   "metadata": {},
   "outputs": [],
   "source": []
  }
 ],
 "metadata": {
  "kernelspec": {
   "display_name": "Python 3",
   "language": "python",
   "name": "python3"
  },
  "language_info": {
   "codemirror_mode": {
    "name": "ipython",
    "version": 3
   },
   "file_extension": ".py",
   "mimetype": "text/x-python",
   "name": "python",
   "nbconvert_exporter": "python",
   "pygments_lexer": "ipython3",
   "version": "3.6.8"
  }
 },
 "nbformat": 4,
 "nbformat_minor": 2
}
