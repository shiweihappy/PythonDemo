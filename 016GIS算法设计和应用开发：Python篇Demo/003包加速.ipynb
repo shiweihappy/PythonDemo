{
 "cells": [
  {
   "cell_type": "code",
   "execution_count": 1,
   "metadata": {},
   "outputs": [],
   "source": [
    "import random"
   ]
  },
  {
   "cell_type": "code",
   "execution_count": 2,
   "metadata": {},
   "outputs": [],
   "source": [
    "ls = [random.randint(0,10000) for i in range(1000000)]"
   ]
  },
  {
   "cell_type": "code",
   "execution_count": 3,
   "metadata": {},
   "outputs": [
    {
     "data": {
      "text/plain": [
       "1000000"
      ]
     },
     "execution_count": 3,
     "metadata": {},
     "output_type": "execute_result"
    }
   ],
   "source": [
    "len(ls)"
   ]
  },
  {
   "cell_type": "code",
   "execution_count": 4,
   "metadata": {},
   "outputs": [
    {
     "name": "stdout",
     "output_type": "stream",
     "text": [
      "Wall time: 182 ms\n"
     ]
    }
   ],
   "source": [
    "%%time\n",
    "fls = []\n",
    "for i in ls:\n",
    "    if i > 450:\n",
    "        fls.append(i)"
   ]
  },
  {
   "cell_type": "code",
   "execution_count": 5,
   "metadata": {},
   "outputs": [
    {
     "data": {
      "text/plain": [
       "954990"
      ]
     },
     "execution_count": 5,
     "metadata": {},
     "output_type": "execute_result"
    }
   ],
   "source": [
    "len(fls)"
   ]
  },
  {
   "cell_type": "code",
   "execution_count": 6,
   "metadata": {},
   "outputs": [],
   "source": [
    "import numpy"
   ]
  },
  {
   "cell_type": "code",
   "execution_count": 7,
   "metadata": {},
   "outputs": [],
   "source": [
    "nls = numpy.array(ls)"
   ]
  },
  {
   "cell_type": "code",
   "execution_count": 8,
   "metadata": {},
   "outputs": [
    {
     "name": "stdout",
     "output_type": "stream",
     "text": [
      "Wall time: 6.9 ms\n"
     ]
    }
   ],
   "source": [
    "%%time\n",
    "fls2 = numpy.where(nls > 450)"
   ]
  },
  {
   "cell_type": "code",
   "execution_count": 9,
   "metadata": {},
   "outputs": [
    {
     "data": {
      "text/plain": [
       "954990"
      ]
     },
     "execution_count": 9,
     "metadata": {},
     "output_type": "execute_result"
    }
   ],
   "source": [
    "len(fls2[0])"
   ]
  },
  {
   "cell_type": "code",
   "execution_count": 10,
   "metadata": {},
   "outputs": [
    {
     "name": "stdout",
     "output_type": "stream",
     "text": [
      "Wall time: 223 ms\n"
     ]
    }
   ],
   "source": [
    "%%time\n",
    "fls = []\n",
    "for i in ls:\n",
    "    fls.append(i * 0.5)"
   ]
  },
  {
   "cell_type": "code",
   "execution_count": 11,
   "metadata": {},
   "outputs": [
    {
     "name": "stdout",
     "output_type": "stream",
     "text": [
      "[3889.5, 437.5, 567.0, 791.0, 1883.0, 4355.5, 2186.0, 1735.0, 400.0, 102.5, 3917.0, 137.5, 795.5, 3592.5, 2930.5, 1686.5, 1988.0, 2153.5, 4155.0, 2207.0, 2940.0, 3673.5, 3393.0, 3789.5, 709.5, 2202.5, 740.0, 652.0, 4300.5, 2338.0, 1134.5, 2093.5, 3575.5, 4734.0, 2879.0, 3482.0, 1773.0, 34.5, 4850.0, 1803.0, 903.0, 3349.0, 1897.0, 4089.0, 1579.0, 4200.5, 3572.0, 2106.0, 3515.5, 4181.5, 1250.0, 2793.0, 4595.0, 13.5, 1155.5, 4338.0, 196.5, 1512.0, 2195.5, 679.5, 2329.5, 3297.5, 1170.0, 4644.5, 2514.0, 2384.5, 1840.0, 3002.0, 4912.5, 3684.5, 394.0, 4368.5, 2953.5, 2914.5, 1210.0, 1219.0, 279.5, 3711.5, 2182.5, 635.5, 3816.5, 3976.0, 4289.0, 291.5, 338.0, 2036.5, 2570.0, 4374.5, 1982.5, 3162.0, 3050.0, 2206.0, 368.5, 2721.5, 4802.5, 4248.0, 4067.5, 2727.0, 3351.0, 1601.0]\n"
     ]
    }
   ],
   "source": [
    "print(fls[:100])"
   ]
  },
  {
   "cell_type": "code",
   "execution_count": 12,
   "metadata": {},
   "outputs": [
    {
     "name": "stdout",
     "output_type": "stream",
     "text": [
      "Wall time: 5.6 ms\n"
     ]
    }
   ],
   "source": [
    "%%time\n",
    "nls2 = nls * 0.5"
   ]
  },
  {
   "cell_type": "code",
   "execution_count": null,
   "metadata": {},
   "outputs": [],
   "source": [
    "print(nls2[:100])"
   ]
  },
  {
   "cell_type": "code",
   "execution_count": null,
   "metadata": {},
   "outputs": [],
   "source": []
  }
 ],
 "metadata": {
  "kernelspec": {
   "display_name": "Python 3",
   "language": "python",
   "name": "python3"
  },
  "language_info": {
   "codemirror_mode": {
    "name": "ipython",
    "version": 3
   },
   "file_extension": ".py",
   "mimetype": "text/x-python",
   "name": "python",
   "nbconvert_exporter": "python",
   "pygments_lexer": "ipython3",
   "version": "3.6.8"
  }
 },
 "nbformat": 4,
 "nbformat_minor": 2
}
